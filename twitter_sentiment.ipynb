{
  "nbformat": 4,
  "nbformat_minor": 0,
  "metadata": {
    "colab": {
      "name": "twitter_sentiment",
      "version": "0.3.2",
      "provenance": [],
      "collapsed_sections": []
    },
    "kernelspec": {
      "name": "python3",
      "display_name": "Python 3"
    }
  },
  "cells": [
    {
      "cell_type": "code",
      "metadata": {
        "id": "UhcCvmFfLQhG",
        "colab_type": "code",
        "colab": {}
      },
      "source": [
        "# sudo pip3 install tweepy\n",
        "import tweepy\n",
        "import matplotlib.pyplot as plt\n",
        "import time\n",
        "from textblob import TextBlob"
      ],
      "execution_count": 0,
      "outputs": []
    },
    {
      "cell_type": "code",
      "metadata": {
        "id": "So-FLfx7L4Fl",
        "colab_type": "code",
        "colab": {}
      },
      "source": [
        "# all 4 authentication 000000000000keys to access twitter API\n",
        "# to connect as OAth handler or jump server / reverse proxy server\n",
        "consumer_key='1cY8HkIhPtGxdJM9iLEN7haSJ'\n",
        "consumer_sec='Vojvg8Csm2LZJuGsrjAN5q0gkz69N5Ib0imGPWqK2mMXBAfNpc'"
      ],
      "execution_count": 0,
      "outputs": []
    },
    {
      "cell_type": "code",
      "metadata": {
        "id": "OiwMrQSCQAUt",
        "colab_type": "code",
        "colab": {}
      },
      "source": [
        "access_token='774661465378873344-QnJCA5yQzZcxbAxwNYfNzyuMzeLv1xE'\n",
        "access_sec='TpX9ShSIMwOFwvVGreNnFE7CrrL71HlxP9JZYBuHcF0DU'"
      ],
      "execution_count": 0,
      "outputs": []
    },
    {
      "cell_type": "code",
      "metadata": {
        "id": "PqKWwcPNQVd8",
        "colab_type": "code",
        "colab": {}
      },
      "source": [
        "# tweepy explore\n",
        "auth=tweepy.OAuthHandler(consumer_key,consumer_sec)"
      ],
      "execution_count": 0,
      "outputs": []
    },
    {
      "cell_type": "code",
      "metadata": {
        "id": "ziTH8-z0QmYg",
        "colab_type": "code",
        "colab": {}
      },
      "source": [
        "# now we connect API storage server of twitter\n",
        "api_connect=tweepy.API(auth)"
      ],
      "execution_count": 0,
      "outputs": []
    },
    {
      "cell_type": "code",
      "metadata": {
        "id": "hcMDfDWzQ7cp",
        "colab_type": "code",
        "colab": {}
      },
      "source": [
        "# now you can search any topic on twitter\n",
        "tweet_data=api_connect.search('modi',count=10)"
      ],
      "execution_count": 0,
      "outputs": []
    },
    {
      "cell_type": "code",
      "metadata": {
        "id": "pCBA9rSBRAbY",
        "colab_type": "code",
        "colab": {
          "base_uri": "https://localhost:8080/",
          "height": 741
        },
        "outputId": "74ef346f-8900-484f-a973-abfae3d45e7a"
      },
      "source": [
        "# printing line by line\n",
        "pos=0\n",
        "neg=0\n",
        "neu=0\n",
        "for tweet in tweet_data:\n",
        "  # print(tweet.text)\n",
        "  analysis=TextBlob(tweet.text)      # here it will apply NLP\n",
        "  print(analysis.sentiment)\n",
        "  # now checking polarity only\n",
        "  if analysis.sentiment.polarity > 0 :\n",
        "      print(\"positive\")\n",
        "      pos=pos+1\n",
        "  elif analysis.sentiment.polarity == 0 :\n",
        "      print(\"Neutral\")\n",
        "      neu=neu+1\n",
        "  else :\n",
        "      print(\"Negative\")\n",
        "      neg=neg+1\n",
        "      \n",
        " # plotting graphs\n",
        "plt.xlabel(\"tags\")\n",
        "plt.ylabel(\"polarity\")\n",
        "plt.bar(['pos','neg','neu'],[pos,neg,neu])\n",
        "plt.pie([pos,neg,neu],labels=[\"pos\",\"neg\",\"neu\"],autopct='%1.1F%%')"
      ],
      "execution_count": 30,
      "outputs": [
        {
          "output_type": "stream",
          "text": [
            "Sentiment(polarity=-0.06666666666666665, subjectivity=0.5611111111111111)\n",
            "Negative\n",
            "Sentiment(polarity=0.8, subjectivity=1.0)\n",
            "positive\n",
            "Sentiment(polarity=0.0, subjectivity=0.0)\n",
            "Neutral\n",
            "Sentiment(polarity=-0.012500000000000011, subjectivity=0.65)\n",
            "Negative\n",
            "Sentiment(polarity=-0.012500000000000011, subjectivity=0.65)\n",
            "Negative\n",
            "Sentiment(polarity=0.0, subjectivity=0.0)\n",
            "Neutral\n",
            "Sentiment(polarity=-0.012500000000000011, subjectivity=0.65)\n",
            "Negative\n",
            "Sentiment(polarity=-0.4, subjectivity=0.6)\n",
            "Negative\n",
            "Sentiment(polarity=0.0, subjectivity=0.0)\n",
            "Neutral\n"
          ],
          "name": "stdout"
        },
        {
          "output_type": "execute_result",
          "data": {
            "text/plain": [
              "([<matplotlib.patches.Wedge at 0x7efce98aa940>,\n",
              "  <matplotlib.patches.Wedge at 0x7efce98a75c0>,\n",
              "  <matplotlib.patches.Wedge at 0x7efce98a3d68>],\n",
              " [Text(1.0336618818860421, 0.3762221603465248, 'pos'),\n",
              "  Text(-0.8426489499534077, 0.7070662961437348, 'neg'),\n",
              "  Text(0.5500001932481627, -0.9526278325909778, 'neu')],\n",
              " [Text(0.563815571937841, 0.20521208746174077, '11.1%'),\n",
              "  Text(-0.45962669997458594, 0.3856725251693099, '55.6%'),\n",
              "  Text(0.3000001054080887, -0.5196151814132606, '33.3%')])"
            ]
          },
          "metadata": {
            "tags": []
          },
          "execution_count": 30
        },
        {
          "output_type": "display_data",
          "data": {
            "image/png": "[encoded data removed]",
            "text/plain": [
              "<Figure size 432x288 with 1 Axes>"
            ]
          },
          "metadata": {
            "tags": []
          }
        }
      ]
    },
    {
      "cell_type": "code",
      "metadata": {
        "id": "9AVvDFYoSBBo",
        "colab_type": "code",
        "colab": {}
      },
      "source": [
        ""
      ],
      "execution_count": 0,
      "outputs": []
    }
  ]
}