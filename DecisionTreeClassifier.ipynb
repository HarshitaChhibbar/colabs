{
  "nbformat": 4,
  "nbformat_minor": 0,
  "metadata": {
    "colab": {
      "name": "DecisionTreeClassifier",
      "version": "0.3.2",
      "provenance": [],
      "collapsed_sections": []
    },
    "kernelspec": {
      "name": "python3",
      "display_name": "Python 3"
    }
  },
  "cells": [
    {
      "cell_type": "code",
      "metadata": {
        "id": "WYgb4bdtfjlk",
        "colab_type": "code",
        "colab": {}
      },
      "source": [
        "import numpy as np\n",
        "import pandas as pd\n",
        "from sklearn.tree import DecisionTreeClassifier    # decisionTree classifier only"
      ],
      "execution_count": 0,
      "outputs": []
    },
    {
      "cell_type": "code",
      "metadata": {
        "id": "e7aqXm_YfpmY",
        "colab_type": "code",
        "colab": {}
      },
      "source": [
        "# this is for apple and orange\n",
        "# here smooth is for apple and bumpy is for orange\n",
        "features=[[100,'0'],[120,'0'],[130,'1'],[150,'1']]\n",
        "# here 0 means smooth and 1 means bumpy "
      ],
      "execution_count": 0,
      "outputs": []
    },
    {
      "cell_type": "code",
      "metadata": {
        "id": "Ppmi7whKgISv",
        "colab_type": "code",
        "colab": {}
      },
      "source": [
        "# now answers accordingly\n",
        "label=['apple','apple','orange','orange']"
      ],
      "execution_count": 0,
      "outputs": []
    },
    {
      "cell_type": "code",
      "metadata": {
        "id": "bQyX07wIgUxV",
        "colab_type": "code",
        "colab": {}
      },
      "source": [
        "# calling DecisionTree classifier\n",
        "clf=DecisionTreeClassifier()"
      ],
      "execution_count": 0,
      "outputs": []
    },
    {
      "cell_type": "code",
      "metadata": {
        "id": "tQ4BLGt2hrNm",
        "colab_type": "code",
        "colab": {}
      },
      "source": [
        "#now time for training data\n",
        "trained=clf.fit(features,label)"
      ],
      "execution_count": 0,
      "outputs": []
    },
    {
      "cell_type": "code",
      "metadata": {
        "id": "jRA6OTvLh4PR",
        "colab_type": "code",
        "outputId": "7b00d244-5a0e-486e-dbd9-9089ca1e9ee3",
        "colab": {
          "base_uri": "https://localhost:8080/",
          "height": 34
        }
      },
      "source": [
        "# now predicting \n",
        "trained.predict([[110,0]])"
      ],
      "execution_count": 0,
      "outputs": [
        {
          "output_type": "execute_result",
          "data": {
            "text/plain": [
              "array(['apple'], dtype='<U6')"
            ]
          },
          "metadata": {
            "tags": []
          },
          "execution_count": 14
        }
      ]
    },
    {
      "cell_type": "code",
      "metadata": {
        "id": "SEq2QLNnisdM",
        "colab_type": "code",
        "colab": {}
      },
      "source": [
        ""
      ],
      "execution_count": 0,
      "outputs": []
    }
  ]
}