{
  "nbformat": 4,
  "nbformat_minor": 0,
  "metadata": {
    "colab": {
      "name": "knniris.ipynb",
      "version": "0.3.2",
      "provenance": [],
      "collapsed_sections": []
    },
    "kernelspec": {
      "name": "python3",
      "display_name": "Python 3"
    }
  },
  "cells": [
    {
      "cell_type": "code",
      "metadata": {
        "id": "OkigvSEXf_oh",
        "colab_type": "code",
        "colab": {}
      },
      "source": [
        "# loading iris data set\n",
        "from sklearn.datasets import load_iris"
      ],
      "execution_count": 0,
      "outputs": []
    },
    {
      "cell_type": "code",
      "metadata": {
        "id": "Cs2AXYFQgRfk",
        "colab_type": "code",
        "colab": {}
      },
      "source": [
        "# loading into a variable\n",
        "iris_data=load_iris()"
      ],
      "execution_count": 0,
      "outputs": []
    },
    {
      "cell_type": "code",
      "metadata": {
        "id": "Rv7NgI-EglRd",
        "colab_type": "code",
        "outputId": "5689bbbf-a93d-48ae-8e6e-d375ab1a39eb",
        "colab": {
          "base_uri": "https://localhost:8080/",
          "height": 34
        }
      },
      "source": [
        "# describing iris data internally\n",
        "dir(iris_data)"
      ],
      "execution_count": 0,
      "outputs": [
        {
          "output_type": "execute_result",
          "data": {
            "text/plain": [
              "['DESCR', 'data', 'feature_names', 'filename', 'target', 'target_names']"
            ]
          },
          "metadata": {
            "tags": []
          },
          "execution_count": 4
        }
      ]
    },
    {
      "cell_type": "code",
      "metadata": {
        "id": "jzkWZxXhgvbJ",
        "colab_type": "code",
        "outputId": "69fd1a8b-46c4-47d5-b20d-1d1fc940c7be",
        "colab": {
          "base_uri": "https://localhost:8080/",
          "height": 34
        }
      },
      "source": [
        "# target output values\n",
        "iris_data.target_names"
      ],
      "execution_count": 0,
      "outputs": [
        {
          "output_type": "execute_result",
          "data": {
            "text/plain": [
              "array(['setosa', 'versicolor', 'virginica'], dtype='<U10')"
            ]
          },
          "metadata": {
            "tags": []
          },
          "execution_count": 6
        }
      ]
    },
    {
      "cell_type": "code",
      "metadata": {
        "id": "nPdcnzy6g5zF",
        "colab_type": "code",
        "outputId": "14b6ea43-2973-483a-c1ef-e56f84672f00",
        "colab": {
          "base_uri": "https://localhost:8080/",
          "height": 87
        }
      },
      "source": [
        "# now attribute of feature of given data \n",
        "iris_data.feature_names"
      ],
      "execution_count": 0,
      "outputs": [
        {
          "output_type": "execute_result",
          "data": {
            "text/plain": [
              "['sepal length (cm)',\n",
              " 'sepal width (cm)',\n",
              " 'petal length (cm)',\n",
              " 'petal width (cm)']"
            ]
          },
          "metadata": {
            "tags": []
          },
          "execution_count": 8
        }
      ]
    },
    {
      "cell_type": "code",
      "metadata": {
        "id": "gmLNE_UBhHHi",
        "colab_type": "code",
        "colab": {}
      },
      "source": [
        "# data with attributes\n",
        "iris_features=iris_data.data"
      ],
      "execution_count": 0,
      "outputs": []
    },
    {
      "cell_type": "code",
      "metadata": {
        "id": "MU5m3LCdhWgN",
        "colab_type": "code",
        "colab": {}
      },
      "source": [
        "# extracting label as per features\n",
        "label=iris_data.target"
      ],
      "execution_count": 0,
      "outputs": []
    },
    {
      "cell_type": "markdown",
      "metadata": {
        "id": "oqkea2lwhsAx",
        "colab_type": "text"
      },
      "source": [
        "**Showing graphs**"
      ]
    },
    {
      "cell_type": "code",
      "metadata": {
        "id": "EaUstMVThgnT",
        "colab_type": "code",
        "colab": {}
      },
      "source": [
        "# put your code for graphs"
      ],
      "execution_count": 0,
      "outputs": []
    },
    {
      "cell_type": "code",
      "metadata": {
        "id": "dQGT7fiNh2hA",
        "colab_type": "code",
        "colab": {}
      },
      "source": [
        "# sep data into training and testing\n",
        "from sklearn.model_selection import train_test_split"
      ],
      "execution_count": 0,
      "outputs": []
    },
    {
      "cell_type": "code",
      "metadata": {
        "id": "bgarHgbniFw-",
        "colab_type": "code",
        "colab": {}
      },
      "source": [
        "# help(train_test_split)\n",
        "train_data, test_data, train_label, test_label=train_test_split(iris_features, label, test_size=0.2)"
      ],
      "execution_count": 0,
      "outputs": []
    },
    {
      "cell_type": "code",
      "metadata": {
        "id": "zUwKJfE8kj_p",
        "colab_type": "code",
        "colab": {}
      },
      "source": [
        "# impoting KNN clf\n",
        "from sklearn.neighbors import KNeighborsClassifier"
      ],
      "execution_count": 0,
      "outputs": []
    },
    {
      "cell_type": "code",
      "metadata": {
        "id": "XRugQJztlqG1",
        "colab_type": "code",
        "colab": {}
      },
      "source": [
        "# now calling KNN \n",
        "kclf=KNeighborsClassifier(n_neighbors=5) # by deafault value of k is 5"
      ],
      "execution_count": 0,
      "outputs": []
    },
    {
      "cell_type": "code",
      "metadata": {
        "id": "rr9vvPufmF2d",
        "colab_type": "code",
        "colab": {}
      },
      "source": [
        "# applying training data \n",
        "ktrained=kclf.fit(train_data,train_label)"
      ],
      "execution_count": 0,
      "outputs": []
    },
    {
      "cell_type": "code",
      "metadata": {
        "id": "UpXwDavimVUF",
        "colab_type": "code",
        "colab": {}
      },
      "source": [
        "# now time for prediction\n",
        "predict_output=ktrained.predict(test_data)"
      ],
      "execution_count": 0,
      "outputs": []
    },
    {
      "cell_type": "code",
      "metadata": {
        "id": "Az62vjZeme4n",
        "colab_type": "code",
        "outputId": "39ec4d5b-0cff-4ddd-c002-150503d8bd23",
        "colab": {
          "base_uri": "https://localhost:8080/",
          "height": 52
        }
      },
      "source": [
        "predict_output"
      ],
      "execution_count": 0,
      "outputs": [
        {
          "output_type": "execute_result",
          "data": {
            "text/plain": [
              "array([2, 2, 2, 1, 0, 0, 2, 0, 0, 0, 1, 0, 0, 0, 1, 2, 2, 1, 0, 2, 1, 0,\n",
              "       2, 1, 2, 1, 1, 1, 2, 0])"
            ]
          },
          "metadata": {
            "tags": []
          },
          "execution_count": 21
        }
      ]
    },
    {
      "cell_type": "code",
      "metadata": {
        "id": "-UFEzaTsmmeO",
        "colab_type": "code",
        "outputId": "7679a88d-3df4-40bf-acf2-51fd346af0e1",
        "colab": {
          "base_uri": "https://localhost:8080/",
          "height": 52
        }
      },
      "source": [
        "test_label"
      ],
      "execution_count": 0,
      "outputs": [
        {
          "output_type": "execute_result",
          "data": {
            "text/plain": [
              "array([2, 2, 2, 1, 0, 0, 2, 0, 0, 0, 1, 0, 0, 0, 1, 2, 2, 1, 0, 2, 1, 0,\n",
              "       2, 1, 2, 1, 1, 1, 2, 0])"
            ]
          },
          "metadata": {
            "tags": []
          },
          "execution_count": 22
        }
      ]
    },
    {
      "cell_type": "code",
      "metadata": {
        "id": "wQ1-XNQfmqTN",
        "colab_type": "code",
        "colab": {}
      },
      "source": [
        "# calculating accuracy score\n",
        "from sklearn.metrics import accuracy_score"
      ],
      "execution_count": 0,
      "outputs": []
    },
    {
      "cell_type": "code",
      "metadata": {
        "id": "NTImeuZym09J",
        "colab_type": "code",
        "colab": {}
      },
      "source": [
        "acrknn=accuracy_score(test_label,predict_output)"
      ],
      "execution_count": 0,
      "outputs": []
    },
    {
      "cell_type": "code",
      "metadata": {
        "id": "w_JfxkL8m-gv",
        "colab_type": "code",
        "outputId": "bb1a0031-5150-4d58-9ac4-cf2a20826cb6",
        "colab": {
          "base_uri": "https://localhost:8080/",
          "height": 34
        }
      },
      "source": [
        "acrknn"
      ],
      "execution_count": 0,
      "outputs": [
        {
          "output_type": "execute_result",
          "data": {
            "text/plain": [
              "1.0"
            ]
          },
          "metadata": {
            "tags": []
          },
          "execution_count": 25
        }
      ]
    },
    {
      "cell_type": "code",
      "metadata": {
        "id": "sVlc0GP4nAoS",
        "colab_type": "code",
        "colab": {}
      },
      "source": [
        "# calling decision tree classifier\n",
        "from sklearn.tree import DecisionTreeClassifier\n",
        "dclf=DecisionTreeClassifier()"
      ],
      "execution_count": 0,
      "outputs": []
    },
    {
      "cell_type": "code",
      "metadata": {
        "id": "2O_LaNp3nWR0",
        "colab_type": "code",
        "colab": {}
      },
      "source": [
        "# training decision tree\n",
        "dtrained=dclf.fit(train_data, train_label)"
      ],
      "execution_count": 0,
      "outputs": []
    },
    {
      "cell_type": "code",
      "metadata": {
        "id": "wgOfU7SnnjkN",
        "colab_type": "code",
        "colab": {}
      },
      "source": [
        "# now predicting\n",
        "dprediction=dtrained.predict(test_data)"
      ],
      "execution_count": 0,
      "outputs": []
    },
    {
      "cell_type": "code",
      "metadata": {
        "id": "q06O_emLnwcu",
        "colab_type": "code",
        "colab": {}
      },
      "source": [
        "# now accuracy of decision\n",
        "dacr=accuracy_score(test_label,dprediction)"
      ],
      "execution_count": 0,
      "outputs": []
    },
    {
      "cell_type": "code",
      "metadata": {
        "id": "yXPojG2cn82l",
        "colab_type": "code",
        "outputId": "799ba957-77dd-4bb0-f1b9-cce8044bb173",
        "colab": {
          "base_uri": "https://localhost:8080/",
          "height": 34
        }
      },
      "source": [
        "dacr"
      ],
      "execution_count": 0,
      "outputs": [
        {
          "output_type": "execute_result",
          "data": {
            "text/plain": [
              "0.9666666666666667"
            ]
          },
          "metadata": {
            "tags": []
          },
          "execution_count": 30
        }
      ]
    },
    {
      "cell_type": "code",
      "metadata": {
        "id": "Ys6fBDB_n-IC",
        "colab_type": "code",
        "colab": {}
      },
      "source": [
        ""
      ],
      "execution_count": 0,
      "outputs": []
    }
  ]
}